{
 "cells": [
  {
   "cell_type": "code",
   "execution_count": 25,
   "id": "509e7ef5",
   "metadata": {},
   "outputs": [],
   "source": [
    "import numpy as np\n",
    "import pandas as pd\n",
    "import matplotlib.pyplot as plt\n",
    "import seaborn as sb"
   ]
  },
  {
   "cell_type": "code",
   "execution_count": 13,
   "id": "dc37773d",
   "metadata": {},
   "outputs": [],
   "source": [
    "food_record = pd.read_csv('food_record.json')"
   ]
  },
  {
   "cell_type": "code",
   "execution_count": 6,
   "id": "3ec18adf",
   "metadata": {},
   "outputs": [],
   "source": [
    "exer_record = pd.read_csv('exercise_record.json')"
   ]
  },
  {
   "cell_type": "code",
   "execution_count": 7,
   "id": "fff6b409",
   "metadata": {},
   "outputs": [],
   "source": [
    "weight_record = pd.read_csv('weight_record.json')"
   ]
  },
  {
   "cell_type": "code",
   "execution_count": 29,
   "id": "f07ada05",
   "metadata": {
    "scrolled": true
   },
   "outputs": [
    {
     "data": {
      "text/html": [
       "<div>\n",
       "<style scoped>\n",
       "    .dataframe tbody tr th:only-of-type {\n",
       "        vertical-align: middle;\n",
       "    }\n",
       "\n",
       "    .dataframe tbody tr th {\n",
       "        vertical-align: top;\n",
       "    }\n",
       "\n",
       "    .dataframe thead th {\n",
       "        text-align: right;\n",
       "    }\n",
       "</style>\n",
       "<table border=\"1\" class=\"dataframe\">\n",
       "  <thead>\n",
       "    <tr style=\"text-align: right;\">\n",
       "      <th></th>\n",
       "      <th>id</th>\n",
       "      <th>userId</th>\n",
       "      <th>gram</th>\n",
       "      <th>kcal</th>\n",
       "      <th>carbs</th>\n",
       "      <th>protein</th>\n",
       "      <th>fat</th>\n",
       "      <th>mealtime</th>\n",
       "      <th>recordType</th>\n",
       "    </tr>\n",
       "  </thead>\n",
       "  <tbody>\n",
       "    <tr>\n",
       "      <th>count</th>\n",
       "      <td>37.000000</td>\n",
       "      <td>37.0</td>\n",
       "      <td>37.000000</td>\n",
       "      <td>37.000000</td>\n",
       "      <td>37.000000</td>\n",
       "      <td>37.000000</td>\n",
       "      <td>37.000000</td>\n",
       "      <td>37.000000</td>\n",
       "      <td>37.0</td>\n",
       "    </tr>\n",
       "    <tr>\n",
       "      <th>mean</th>\n",
       "      <td>174.162162</td>\n",
       "      <td>125.0</td>\n",
       "      <td>225.405405</td>\n",
       "      <td>484.216216</td>\n",
       "      <td>60.297297</td>\n",
       "      <td>36.189189</td>\n",
       "      <td>11.081081</td>\n",
       "      <td>1.270270</td>\n",
       "      <td>0.0</td>\n",
       "    </tr>\n",
       "    <tr>\n",
       "      <th>std</th>\n",
       "      <td>11.216341</td>\n",
       "      <td>0.0</td>\n",
       "      <td>190.393957</td>\n",
       "      <td>235.323906</td>\n",
       "      <td>29.445680</td>\n",
       "      <td>17.683699</td>\n",
       "      <td>5.433325</td>\n",
       "      <td>0.732145</td>\n",
       "      <td>0.0</td>\n",
       "    </tr>\n",
       "    <tr>\n",
       "      <th>min</th>\n",
       "      <td>155.000000</td>\n",
       "      <td>125.0</td>\n",
       "      <td>21.000000</td>\n",
       "      <td>138.000000</td>\n",
       "      <td>17.000000</td>\n",
       "      <td>10.000000</td>\n",
       "      <td>3.000000</td>\n",
       "      <td>0.000000</td>\n",
       "      <td>0.0</td>\n",
       "    </tr>\n",
       "    <tr>\n",
       "      <th>25%</th>\n",
       "      <td>165.000000</td>\n",
       "      <td>125.0</td>\n",
       "      <td>100.000000</td>\n",
       "      <td>311.000000</td>\n",
       "      <td>39.000000</td>\n",
       "      <td>23.000000</td>\n",
       "      <td>7.000000</td>\n",
       "      <td>1.000000</td>\n",
       "      <td>0.0</td>\n",
       "    </tr>\n",
       "    <tr>\n",
       "      <th>50%</th>\n",
       "      <td>174.000000</td>\n",
       "      <td>125.0</td>\n",
       "      <td>121.000000</td>\n",
       "      <td>446.000000</td>\n",
       "      <td>55.000000</td>\n",
       "      <td>33.000000</td>\n",
       "      <td>10.000000</td>\n",
       "      <td>1.000000</td>\n",
       "      <td>0.0</td>\n",
       "    </tr>\n",
       "    <tr>\n",
       "      <th>75%</th>\n",
       "      <td>183.000000</td>\n",
       "      <td>125.0</td>\n",
       "      <td>300.000000</td>\n",
       "      <td>660.000000</td>\n",
       "      <td>83.000000</td>\n",
       "      <td>50.000000</td>\n",
       "      <td>15.000000</td>\n",
       "      <td>2.000000</td>\n",
       "      <td>0.0</td>\n",
       "    </tr>\n",
       "    <tr>\n",
       "      <th>max</th>\n",
       "      <td>193.000000</td>\n",
       "      <td>125.0</td>\n",
       "      <td>700.000000</td>\n",
       "      <td>1106.000000</td>\n",
       "      <td>138.000000</td>\n",
       "      <td>83.000000</td>\n",
       "      <td>25.000000</td>\n",
       "      <td>2.000000</td>\n",
       "      <td>0.0</td>\n",
       "    </tr>\n",
       "  </tbody>\n",
       "</table>\n",
       "</div>"
      ],
      "text/plain": [
       "               id  userId        gram         kcal       carbs    protein  \\\n",
       "count   37.000000    37.0   37.000000    37.000000   37.000000  37.000000   \n",
       "mean   174.162162   125.0  225.405405   484.216216   60.297297  36.189189   \n",
       "std     11.216341     0.0  190.393957   235.323906   29.445680  17.683699   \n",
       "min    155.000000   125.0   21.000000   138.000000   17.000000  10.000000   \n",
       "25%    165.000000   125.0  100.000000   311.000000   39.000000  23.000000   \n",
       "50%    174.000000   125.0  121.000000   446.000000   55.000000  33.000000   \n",
       "75%    183.000000   125.0  300.000000   660.000000   83.000000  50.000000   \n",
       "max    193.000000   125.0  700.000000  1106.000000  138.000000  83.000000   \n",
       "\n",
       "             fat   mealtime  recordType  \n",
       "count  37.000000  37.000000        37.0  \n",
       "mean   11.081081   1.270270         0.0  \n",
       "std     5.433325   0.732145         0.0  \n",
       "min     3.000000   0.000000         0.0  \n",
       "25%     7.000000   1.000000         0.0  \n",
       "50%    10.000000   1.000000         0.0  \n",
       "75%    15.000000   2.000000         0.0  \n",
       "max    25.000000   2.000000         0.0  "
      ]
     },
     "execution_count": 29,
     "metadata": {},
     "output_type": "execute_result"
    }
   ],
   "source": [
    "df_food.describe()"
   ]
  },
  {
   "cell_type": "code",
   "execution_count": 71,
   "id": "8608defa",
   "metadata": {},
   "outputs": [
    {
     "data": {
      "text/html": [
       "<div>\n",
       "<style scoped>\n",
       "    .dataframe tbody tr th:only-of-type {\n",
       "        vertical-align: middle;\n",
       "    }\n",
       "\n",
       "    .dataframe tbody tr th {\n",
       "        vertical-align: top;\n",
       "    }\n",
       "\n",
       "    .dataframe thead th {\n",
       "        text-align: right;\n",
       "    }\n",
       "</style>\n",
       "<table border=\"1\" class=\"dataframe\">\n",
       "  <thead>\n",
       "    <tr style=\"text-align: right;\">\n",
       "      <th></th>\n",
       "      <th>id</th>\n",
       "      <th>userId</th>\n",
       "      <th>foodName</th>\n",
       "      <th>gram</th>\n",
       "      <th>kcal</th>\n",
       "      <th>carbs</th>\n",
       "      <th>protein</th>\n",
       "      <th>fat</th>\n",
       "      <th>mealtime</th>\n",
       "      <th>date</th>\n",
       "      <th>recordType</th>\n",
       "      <th>createdAt</th>\n",
       "      <th>updatedAt</th>\n",
       "    </tr>\n",
       "  </thead>\n",
       "  <tbody>\n",
       "    <tr>\n",
       "      <th>25</th>\n",
       "      <td>155</td>\n",
       "      <td>125</td>\n",
       "      <td>숯불갈비 삼각김밥</td>\n",
       "      <td>150</td>\n",
       "      <td>311</td>\n",
       "      <td>39</td>\n",
       "      <td>23</td>\n",
       "      <td>7</td>\n",
       "      <td>0</td>\n",
       "      <td>2023-03-06</td>\n",
       "      <td>0</td>\n",
       "      <td>2023-04-05 03:55:04</td>\n",
       "      <td>2023-04-05 03:55:04</td>\n",
       "    </tr>\n",
       "    <tr>\n",
       "      <th>26</th>\n",
       "      <td>156</td>\n",
       "      <td>125</td>\n",
       "      <td>핫치킨(슈퍼시드 함유 도우M)</td>\n",
       "      <td>119</td>\n",
       "      <td>497</td>\n",
       "      <td>62</td>\n",
       "      <td>37</td>\n",
       "      <td>11</td>\n",
       "      <td>1</td>\n",
       "      <td>2023-03-06</td>\n",
       "      <td>0</td>\n",
       "      <td>2023-04-05 03:55:19</td>\n",
       "      <td>2023-04-05 03:55:19</td>\n",
       "    </tr>\n",
       "    <tr>\n",
       "      <th>27</th>\n",
       "      <td>158</td>\n",
       "      <td>125</td>\n",
       "      <td>블랙 티 레모네이드 피지오</td>\n",
       "      <td>355</td>\n",
       "      <td>165</td>\n",
       "      <td>21</td>\n",
       "      <td>12</td>\n",
       "      <td>4</td>\n",
       "      <td>2</td>\n",
       "      <td>2023-03-06</td>\n",
       "      <td>0</td>\n",
       "      <td>2023-04-05 03:55:47</td>\n",
       "      <td>2023-04-05 03:55:47</td>\n",
       "    </tr>\n",
       "    <tr>\n",
       "      <th>28</th>\n",
       "      <td>159</td>\n",
       "      <td>125</td>\n",
       "      <td>햄버거</td>\n",
       "      <td>121</td>\n",
       "      <td>706</td>\n",
       "      <td>88</td>\n",
       "      <td>53</td>\n",
       "      <td>16</td>\n",
       "      <td>2</td>\n",
       "      <td>2023-03-06</td>\n",
       "      <td>0</td>\n",
       "      <td>2023-04-05 03:56:02</td>\n",
       "      <td>2023-04-05 03:56:02</td>\n",
       "    </tr>\n",
       "    <tr>\n",
       "      <th>29</th>\n",
       "      <td>160</td>\n",
       "      <td>125</td>\n",
       "      <td>숯불갈비 삼각김밥</td>\n",
       "      <td>100</td>\n",
       "      <td>361</td>\n",
       "      <td>45</td>\n",
       "      <td>27</td>\n",
       "      <td>8</td>\n",
       "      <td>0</td>\n",
       "      <td>2023-03-07</td>\n",
       "      <td>0</td>\n",
       "      <td>2023-04-05 03:57:43</td>\n",
       "      <td>2023-04-05 03:57:43</td>\n",
       "    </tr>\n",
       "  </tbody>\n",
       "</table>\n",
       "</div>"
      ],
      "text/plain": [
       "     id  userId          foodName  gram  kcal  carbs  protein  fat  mealtime  \\\n",
       "25  155     125         숯불갈비 삼각김밥   150   311     39       23    7         0   \n",
       "26  156     125  핫치킨(슈퍼시드 함유 도우M)   119   497     62       37   11         1   \n",
       "27  158     125    블랙 티 레모네이드 피지오   355   165     21       12    4         2   \n",
       "28  159     125               햄버거   121   706     88       53   16         2   \n",
       "29  160     125         숯불갈비 삼각김밥   100   361     45       27    8         0   \n",
       "\n",
       "          date  recordType            createdAt            updatedAt  \n",
       "25  2023-03-06           0  2023-04-05 03:55:04  2023-04-05 03:55:04  \n",
       "26  2023-03-06           0  2023-04-05 03:55:19  2023-04-05 03:55:19  \n",
       "27  2023-03-06           0  2023-04-05 03:55:47  2023-04-05 03:55:47  \n",
       "28  2023-03-06           0  2023-04-05 03:56:02  2023-04-05 03:56:02  \n",
       "29  2023-03-07           0  2023-04-05 03:57:43  2023-04-05 03:57:43  "
      ]
     },
     "execution_count": 71,
     "metadata": {},
     "output_type": "execute_result"
    }
   ],
   "source": [
    "df_food.head(5)"
   ]
  },
  {
   "cell_type": "code",
   "execution_count": 77,
   "id": "081e3682",
   "metadata": {},
   "outputs": [
    {
     "data": {
      "text/html": [
       "<div>\n",
       "<style scoped>\n",
       "    .dataframe tbody tr th:only-of-type {\n",
       "        vertical-align: middle;\n",
       "    }\n",
       "\n",
       "    .dataframe tbody tr th {\n",
       "        vertical-align: top;\n",
       "    }\n",
       "\n",
       "    .dataframe thead th {\n",
       "        text-align: right;\n",
       "    }\n",
       "</style>\n",
       "<table border=\"1\" class=\"dataframe\">\n",
       "  <thead>\n",
       "    <tr style=\"text-align: right;\">\n",
       "      <th></th>\n",
       "      <th>gram</th>\n",
       "      <th>kcal</th>\n",
       "      <th>carbs</th>\n",
       "      <th>protein</th>\n",
       "      <th>fat</th>\n",
       "    </tr>\n",
       "  </thead>\n",
       "  <tbody>\n",
       "    <tr>\n",
       "      <th>count</th>\n",
       "      <td>37.000000</td>\n",
       "      <td>37.000000</td>\n",
       "      <td>37.000000</td>\n",
       "      <td>37.000000</td>\n",
       "      <td>37.000000</td>\n",
       "    </tr>\n",
       "    <tr>\n",
       "      <th>mean</th>\n",
       "      <td>225.405405</td>\n",
       "      <td>484.216216</td>\n",
       "      <td>60.297297</td>\n",
       "      <td>36.189189</td>\n",
       "      <td>11.081081</td>\n",
       "    </tr>\n",
       "    <tr>\n",
       "      <th>std</th>\n",
       "      <td>190.393957</td>\n",
       "      <td>235.323906</td>\n",
       "      <td>29.445680</td>\n",
       "      <td>17.683699</td>\n",
       "      <td>5.433325</td>\n",
       "    </tr>\n",
       "    <tr>\n",
       "      <th>min</th>\n",
       "      <td>21.000000</td>\n",
       "      <td>138.000000</td>\n",
       "      <td>17.000000</td>\n",
       "      <td>10.000000</td>\n",
       "      <td>3.000000</td>\n",
       "    </tr>\n",
       "    <tr>\n",
       "      <th>25%</th>\n",
       "      <td>100.000000</td>\n",
       "      <td>311.000000</td>\n",
       "      <td>39.000000</td>\n",
       "      <td>23.000000</td>\n",
       "      <td>7.000000</td>\n",
       "    </tr>\n",
       "    <tr>\n",
       "      <th>50%</th>\n",
       "      <td>121.000000</td>\n",
       "      <td>446.000000</td>\n",
       "      <td>55.000000</td>\n",
       "      <td>33.000000</td>\n",
       "      <td>10.000000</td>\n",
       "    </tr>\n",
       "    <tr>\n",
       "      <th>75%</th>\n",
       "      <td>300.000000</td>\n",
       "      <td>660.000000</td>\n",
       "      <td>83.000000</td>\n",
       "      <td>50.000000</td>\n",
       "      <td>15.000000</td>\n",
       "    </tr>\n",
       "    <tr>\n",
       "      <th>max</th>\n",
       "      <td>700.000000</td>\n",
       "      <td>1106.000000</td>\n",
       "      <td>138.000000</td>\n",
       "      <td>83.000000</td>\n",
       "      <td>25.000000</td>\n",
       "    </tr>\n",
       "  </tbody>\n",
       "</table>\n",
       "</div>"
      ],
      "text/plain": [
       "             gram         kcal       carbs    protein        fat\n",
       "count   37.000000    37.000000   37.000000  37.000000  37.000000\n",
       "mean   225.405405   484.216216   60.297297  36.189189  11.081081\n",
       "std    190.393957   235.323906   29.445680  17.683699   5.433325\n",
       "min     21.000000   138.000000   17.000000  10.000000   3.000000\n",
       "25%    100.000000   311.000000   39.000000  23.000000   7.000000\n",
       "50%    121.000000   446.000000   55.000000  33.000000  10.000000\n",
       "75%    300.000000   660.000000   83.000000  50.000000  15.000000\n",
       "max    700.000000  1106.000000  138.000000  83.000000  25.000000"
      ]
     },
     "execution_count": 77,
     "metadata": {},
     "output_type": "execute_result"
    }
   ],
   "source": [
    "df_food.loc[:,'gram':'fat'].describe()"
   ]
  },
  {
   "cell_type": "code",
   "execution_count": 17,
   "id": "3a6029db",
   "metadata": {},
   "outputs": [],
   "source": [
    "df_food = food_record[food_record['userId']==125]"
   ]
  },
  {
   "cell_type": "code",
   "execution_count": 69,
   "id": "921e1786",
   "metadata": {},
   "outputs": [],
   "source": [
    "base_color = sb.color_palette()[3]"
   ]
  },
  {
   "cell_type": "code",
   "execution_count": 63,
   "id": "2e4dbdd6",
   "metadata": {},
   "outputs": [],
   "source": [
    "base_order = df_food['date'].value_counts().index"
   ]
  },
  {
   "cell_type": "code",
   "execution_count": 67,
   "id": "5dce4a82",
   "metadata": {},
   "outputs": [],
   "source": [
    "base_order = base_order[0:7+1]"
   ]
  },
  {
   "cell_type": "code",
   "execution_count": 31,
   "id": "fa8a53bc",
   "metadata": {},
   "outputs": [
    {
     "data": {
      "image/png": "[encoded data removed]",
      "text/plain": [
       "<Figure size 640x480 with 1 Axes>"
      ]
     },
     "metadata": {},
     "output_type": "display_data"
    }
   ],
   "source": [
    "sb.countplot(data = df_food, x='kcal' , color = base_color , order = base_order)\n",
    "plt.show()"
   ]
  },
  {
   "cell_type": "code",
   "execution_count": 70,
   "id": "20a85b24",
   "metadata": {},
   "outputs": [
    {
     "data": {
      "image/png": "[encoded data removed]",
      "text/plain": [
       "<Figure size 640x480 with 1 Axes>"
      ]
     },
     "metadata": {},
     "output_type": "display_data"
    }
   ],
   "source": [
    "sb.countplot(data=df_food, y = 'date' , color=base_color,order= base_order )\n",
    "plt.show()"
   ]
  },
  {
   "cell_type": "code",
   "execution_count": 79,
   "id": "2aa3c824",
   "metadata": {},
   "outputs": [],
   "source": [
    "df_exer = exer_record[exer_record['userId']==125]"
   ]
  },
  {
   "cell_type": "code",
   "execution_count": 82,
   "id": "35573966",
   "metadata": {},
   "outputs": [
    {
     "data": {
      "text/html": [
       "<div>\n",
       "<style scoped>\n",
       "    .dataframe tbody tr th:only-of-type {\n",
       "        vertical-align: middle;\n",
       "    }\n",
       "\n",
       "    .dataframe tbody tr th {\n",
       "        vertical-align: top;\n",
       "    }\n",
       "\n",
       "    .dataframe thead th {\n",
       "        text-align: right;\n",
       "    }\n",
       "</style>\n",
       "<table border=\"1\" class=\"dataframe\">\n",
       "  <thead>\n",
       "    <tr style=\"text-align: right;\">\n",
       "      <th></th>\n",
       "      <th>exerciseName</th>\n",
       "    </tr>\n",
       "  </thead>\n",
       "  <tbody>\n",
       "    <tr>\n",
       "      <th>사이클링(30km속도), 레이싱</th>\n",
       "      <td>5</td>\n",
       "    </tr>\n",
       "    <tr>\n",
       "      <th>사이클링, 산악 자전거, BMX</th>\n",
       "      <td>3</td>\n",
       "    </tr>\n",
       "    <tr>\n",
       "      <th>휠체어밀기</th>\n",
       "      <td>1</td>\n",
       "    </tr>\n",
       "    <tr>\n",
       "      <th>수영 배영</th>\n",
       "      <td>1</td>\n",
       "    </tr>\n",
       "    <tr>\n",
       "      <th>농구, 슛팅쏘기</th>\n",
       "      <td>1</td>\n",
       "    </tr>\n",
       "    <tr>\n",
       "      <th>체조</th>\n",
       "      <td>1</td>\n",
       "    </tr>\n",
       "    <tr>\n",
       "      <th>코칭 : 축구, 농구, 축구…</th>\n",
       "      <td>1</td>\n",
       "    </tr>\n",
       "  </tbody>\n",
       "</table>\n",
       "</div>"
      ],
      "text/plain": [
       "                   exerciseName\n",
       "사이클링(30km속도), 레이싱             5\n",
       "사이클링, 산악 자전거, BMX             3\n",
       "휠체어밀기                         1\n",
       "수영 배영                         1\n",
       "농구, 슛팅쏘기                      1\n",
       "체조                            1\n",
       "코칭 : 축구, 농구, 축구…              1"
      ]
     },
     "execution_count": 82,
     "metadata": {},
     "output_type": "execute_result"
    }
   ],
   "source": [
    " pd.DataFrame(df_exer['exerciseName'].value_counts())"
   ]
  },
  {
   "cell_type": "code",
   "execution_count": 92,
   "id": "38b79f0c",
   "metadata": {},
   "outputs": [],
   "source": [
    "df_exerciseName_list = df_exer['exerciseName'].value_counts()"
   ]
  },
  {
   "cell_type": "code",
   "execution_count": 102,
   "id": "1f6a710e",
   "metadata": {},
   "outputs": [],
   "source": [
    "        for x in df_exerciseName_list :\n",
    "            ac = df_exer[df_exer['exerciseName'].str.contains(str(x),na=False)]\n",
    "            f = ac['totalKcalBurn'].mean()\n",
    "            att.append(f)"
   ]
  },
  {
   "cell_type": "code",
   "execution_count": 101,
   "id": "90d98b61",
   "metadata": {},
   "outputs": [],
   "source": [
    " att = []"
   ]
  },
  {
   "cell_type": "code",
   "execution_count": 103,
   "id": "0e8d88ad",
   "metadata": {},
   "outputs": [
    {
     "data": {
      "text/plain": [
       "[nan, 1205.764, nan, nan, nan, nan, nan]"
      ]
     },
     "execution_count": 103,
     "metadata": {},
     "output_type": "execute_result"
    }
   ],
   "source": [
    "att"
   ]
  },
  {
   "cell_type": "code",
   "execution_count": 105,
   "id": "59575b6a",
   "metadata": {},
   "outputs": [
    {
     "name": "stderr",
     "output_type": "stream",
     "text": [
      "C:\\Users\\5-8\\AppData\\Local\\Temp\\ipykernel_5932\\4131476452.py:1: UserWarning: This pattern is interpreted as a regular expression, and has match groups. To actually get the groups, use str.extract.\n",
      "  df_exer[df_exer['exerciseName'].str.contains(str('사이클링(30km속도), 레이싱'),na=False)]\n"
     ]
    },
    {
     "data": {
      "text/html": [
       "<div>\n",
       "<style scoped>\n",
       "    .dataframe tbody tr th:only-of-type {\n",
       "        vertical-align: middle;\n",
       "    }\n",
       "\n",
       "    .dataframe tbody tr th {\n",
       "        vertical-align: top;\n",
       "    }\n",
       "\n",
       "    .dataframe thead th {\n",
       "        text-align: right;\n",
       "    }\n",
       "</style>\n",
       "<table border=\"1\" class=\"dataframe\">\n",
       "  <thead>\n",
       "    <tr style=\"text-align: right;\">\n",
       "      <th></th>\n",
       "      <th>id</th>\n",
       "      <th>userId</th>\n",
       "      <th>exerciseName</th>\n",
       "      <th>exerciseTime</th>\n",
       "      <th>totalKcalBurn</th>\n",
       "      <th>date</th>\n",
       "      <th>recordType</th>\n",
       "    </tr>\n",
       "  </thead>\n",
       "  <tbody>\n",
       "  </tbody>\n",
       "</table>\n",
       "</div>"
      ],
      "text/plain": [
       "Empty DataFrame\n",
       "Columns: [id, userId, exerciseName, exerciseTime, totalKcalBurn, date, recordType]\n",
       "Index: []"
      ]
     },
     "execution_count": 105,
     "metadata": {},
     "output_type": "execute_result"
    }
   ],
   "source": [
    "df_exer[df_exer['exerciseName'].str.contains(str('사이클링(30km속도), 레이싱'),na=False)]"
   ]
  },
  {
   "cell_type": "code",
   "execution_count": 111,
   "id": "d7a394f7",
   "metadata": {},
   "outputs": [
    {
     "name": "stderr",
     "output_type": "stream",
     "text": [
      "C:\\Users\\5-8\\AppData\\Local\\Temp\\ipykernel_5932\\2003006218.py:1: UserWarning: This pattern is interpreted as a regular expression, and has match groups. To actually get the groups, use str.extract.\n",
      "  df_exer[df_exer['exerciseName'].str.contains('사이클링(30km속도), 레이싱')]\n"
     ]
    },
    {
     "data": {
      "text/html": [
       "<div>\n",
       "<style scoped>\n",
       "    .dataframe tbody tr th:only-of-type {\n",
       "        vertical-align: middle;\n",
       "    }\n",
       "\n",
       "    .dataframe tbody tr th {\n",
       "        vertical-align: top;\n",
       "    }\n",
       "\n",
       "    .dataframe thead th {\n",
       "        text-align: right;\n",
       "    }\n",
       "</style>\n",
       "<table border=\"1\" class=\"dataframe\">\n",
       "  <thead>\n",
       "    <tr style=\"text-align: right;\">\n",
       "      <th></th>\n",
       "      <th>id</th>\n",
       "      <th>userId</th>\n",
       "      <th>exerciseName</th>\n",
       "      <th>exerciseTime</th>\n",
       "      <th>totalKcalBurn</th>\n",
       "      <th>date</th>\n",
       "      <th>recordType</th>\n",
       "    </tr>\n",
       "  </thead>\n",
       "  <tbody>\n",
       "  </tbody>\n",
       "</table>\n",
       "</div>"
      ],
      "text/plain": [
       "Empty DataFrame\n",
       "Columns: [id, userId, exerciseName, exerciseTime, totalKcalBurn, date, recordType]\n",
       "Index: []"
      ]
     },
     "execution_count": 111,
     "metadata": {},
     "output_type": "execute_result"
    }
   ],
   "source": [
    "df_exer[df_exer['exerciseName'].str.contains('사이클링(30km속도), 레이싱')]"
   ]
  },
  {
   "cell_type": "code",
   "execution_count": 112,
   "id": "08c252ef",
   "metadata": {},
   "outputs": [
    {
     "data": {
      "text/html": [
       "<div>\n",
       "<style scoped>\n",
       "    .dataframe tbody tr th:only-of-type {\n",
       "        vertical-align: middle;\n",
       "    }\n",
       "\n",
       "    .dataframe tbody tr th {\n",
       "        vertical-align: top;\n",
       "    }\n",
       "\n",
       "    .dataframe thead th {\n",
       "        text-align: right;\n",
       "    }\n",
       "</style>\n",
       "<table border=\"1\" class=\"dataframe\">\n",
       "  <thead>\n",
       "    <tr style=\"text-align: right;\">\n",
       "      <th></th>\n",
       "      <th>id</th>\n",
       "      <th>userId</th>\n",
       "      <th>exerciseName</th>\n",
       "      <th>exerciseTime</th>\n",
       "      <th>totalKcalBurn</th>\n",
       "      <th>date</th>\n",
       "      <th>recordType</th>\n",
       "    </tr>\n",
       "  </thead>\n",
       "  <tbody>\n",
       "    <tr>\n",
       "      <th>10</th>\n",
       "      <td>139</td>\n",
       "      <td>125</td>\n",
       "      <td>휠체어밀기</td>\n",
       "      <td>65</td>\n",
       "      <td>382.42</td>\n",
       "      <td>2023-03-06</td>\n",
       "      <td>0</td>\n",
       "    </tr>\n",
       "    <tr>\n",
       "      <th>11</th>\n",
       "      <td>140</td>\n",
       "      <td>125</td>\n",
       "      <td>수영 배영</td>\n",
       "      <td>45</td>\n",
       "      <td>458.29</td>\n",
       "      <td>2023-03-08</td>\n",
       "      <td>0</td>\n",
       "    </tr>\n",
       "    <tr>\n",
       "      <th>12</th>\n",
       "      <td>141</td>\n",
       "      <td>125</td>\n",
       "      <td>농구, 슛팅쏘기</td>\n",
       "      <td>60</td>\n",
       "      <td>393.22</td>\n",
       "      <td>2023-03-10</td>\n",
       "      <td>0</td>\n",
       "    </tr>\n",
       "    <tr>\n",
       "      <th>13</th>\n",
       "      <td>142</td>\n",
       "      <td>125</td>\n",
       "      <td>체조</td>\n",
       "      <td>70</td>\n",
       "      <td>352.52</td>\n",
       "      <td>2023-03-13</td>\n",
       "      <td>0</td>\n",
       "    </tr>\n",
       "    <tr>\n",
       "      <th>14</th>\n",
       "      <td>143</td>\n",
       "      <td>125</td>\n",
       "      <td>코칭 : 축구, 농구, 축구…</td>\n",
       "      <td>50</td>\n",
       "      <td>287.48</td>\n",
       "      <td>2023-03-13</td>\n",
       "      <td>0</td>\n",
       "    </tr>\n",
       "    <tr>\n",
       "      <th>15</th>\n",
       "      <td>144</td>\n",
       "      <td>125</td>\n",
       "      <td>사이클링(30km속도), 레이싱</td>\n",
       "      <td>50</td>\n",
       "      <td>1137.27</td>\n",
       "      <td>2023-03-14</td>\n",
       "      <td>0</td>\n",
       "    </tr>\n",
       "    <tr>\n",
       "      <th>16</th>\n",
       "      <td>145</td>\n",
       "      <td>125</td>\n",
       "      <td>사이클링, 산악 자전거, BMX</td>\n",
       "      <td>55</td>\n",
       "      <td>649.07</td>\n",
       "      <td>2023-03-15</td>\n",
       "      <td>0</td>\n",
       "    </tr>\n",
       "    <tr>\n",
       "      <th>17</th>\n",
       "      <td>146</td>\n",
       "      <td>125</td>\n",
       "      <td>사이클링, 산악 자전거, BMX</td>\n",
       "      <td>45</td>\n",
       "      <td>524.67</td>\n",
       "      <td>2023-03-16</td>\n",
       "      <td>0</td>\n",
       "    </tr>\n",
       "    <tr>\n",
       "      <th>18</th>\n",
       "      <td>147</td>\n",
       "      <td>125</td>\n",
       "      <td>사이클링, 산악 자전거, BMX</td>\n",
       "      <td>55</td>\n",
       "      <td>641.26</td>\n",
       "      <td>2023-03-20</td>\n",
       "      <td>0</td>\n",
       "    </tr>\n",
       "    <tr>\n",
       "      <th>19</th>\n",
       "      <td>148</td>\n",
       "      <td>125</td>\n",
       "      <td>사이클링(30km속도), 레이싱</td>\n",
       "      <td>60</td>\n",
       "      <td>1300.48</td>\n",
       "      <td>2023-03-22</td>\n",
       "      <td>0</td>\n",
       "    </tr>\n",
       "    <tr>\n",
       "      <th>20</th>\n",
       "      <td>149</td>\n",
       "      <td>125</td>\n",
       "      <td>사이클링(30km속도), 레이싱</td>\n",
       "      <td>50</td>\n",
       "      <td>1070.37</td>\n",
       "      <td>2023-03-24</td>\n",
       "      <td>0</td>\n",
       "    </tr>\n",
       "    <tr>\n",
       "      <th>21</th>\n",
       "      <td>150</td>\n",
       "      <td>125</td>\n",
       "      <td>사이클링(30km속도), 레이싱</td>\n",
       "      <td>60</td>\n",
       "      <td>1268.38</td>\n",
       "      <td>2023-03-27</td>\n",
       "      <td>0</td>\n",
       "    </tr>\n",
       "    <tr>\n",
       "      <th>22</th>\n",
       "      <td>151</td>\n",
       "      <td>125</td>\n",
       "      <td>사이클링(30km속도), 레이싱</td>\n",
       "      <td>60</td>\n",
       "      <td>1252.32</td>\n",
       "      <td>2023-03-29</td>\n",
       "      <td>0</td>\n",
       "    </tr>\n",
       "  </tbody>\n",
       "</table>\n",
       "</div>"
      ],
      "text/plain": [
       "     id  userId       exerciseName  exerciseTime  totalKcalBurn        date  \\\n",
       "10  139     125              휠체어밀기            65         382.42  2023-03-06   \n",
       "11  140     125              수영 배영            45         458.29  2023-03-08   \n",
       "12  141     125           농구, 슛팅쏘기            60         393.22  2023-03-10   \n",
       "13  142     125                 체조            70         352.52  2023-03-13   \n",
       "14  143     125   코칭 : 축구, 농구, 축구…            50         287.48  2023-03-13   \n",
       "15  144     125  사이클링(30km속도), 레이싱            50        1137.27  2023-03-14   \n",
       "16  145     125  사이클링, 산악 자전거, BMX            55         649.07  2023-03-15   \n",
       "17  146     125  사이클링, 산악 자전거, BMX            45         524.67  2023-03-16   \n",
       "18  147     125  사이클링, 산악 자전거, BMX            55         641.26  2023-03-20   \n",
       "19  148     125  사이클링(30km속도), 레이싱            60        1300.48  2023-03-22   \n",
       "20  149     125  사이클링(30km속도), 레이싱            50        1070.37  2023-03-24   \n",
       "21  150     125  사이클링(30km속도), 레이싱            60        1268.38  2023-03-27   \n",
       "22  151     125  사이클링(30km속도), 레이싱            60        1252.32  2023-03-29   \n",
       "\n",
       "    recordType  \n",
       "10           0  \n",
       "11           0  \n",
       "12           0  \n",
       "13           0  \n",
       "14           0  \n",
       "15           0  \n",
       "16           0  \n",
       "17           0  \n",
       "18           0  \n",
       "19           0  \n",
       "20           0  \n",
       "21           0  \n",
       "22           0  "
      ]
     },
     "execution_count": 112,
     "metadata": {},
     "output_type": "execute_result"
    }
   ],
   "source": [
    "df_exer"
   ]
  },
  {
   "cell_type": "code",
   "execution_count": 115,
   "id": "4a588b23",
   "metadata": {},
   "outputs": [
    {
     "ename": "ValueError",
     "evalue": "Cannot pass values for both `x` and `y`",
     "output_type": "error",
     "traceback": [
      "\u001b[1;31m---------------------------------------------------------------------------\u001b[0m",
      "\u001b[1;31mValueError\u001b[0m                                Traceback (most recent call last)",
      "Cell \u001b[1;32mIn [115], line 2\u001b[0m\n\u001b[0;32m      1\u001b[0m plt\u001b[38;5;241m.\u001b[39mfigure(figsize\u001b[38;5;241m=\u001b[39m(\u001b[38;5;241m10\u001b[39m,\u001b[38;5;241m12\u001b[39m))\n\u001b[1;32m----> 2\u001b[0m \u001b[43msb\u001b[49m\u001b[38;5;241;43m.\u001b[39;49m\u001b[43mcountplot\u001b[49m\u001b[43m(\u001b[49m\u001b[43mdata\u001b[49m\u001b[43m \u001b[49m\u001b[38;5;241;43m=\u001b[39;49m\u001b[43m \u001b[49m\u001b[43mdf_exer\u001b[49m\u001b[43m,\u001b[49m\u001b[43m \u001b[49m\u001b[43mx\u001b[49m\u001b[38;5;241;43m=\u001b[39;49m\u001b[43m \u001b[49m\u001b[38;5;124;43m'\u001b[39;49m\u001b[38;5;124;43mexerciseName\u001b[39;49m\u001b[38;5;124;43m'\u001b[39;49m\u001b[43m,\u001b[49m\u001b[43m \u001b[49m\u001b[43my\u001b[49m\u001b[38;5;241;43m=\u001b[39;49m\u001b[38;5;124;43m'\u001b[39;49m\u001b[38;5;124;43mexerciseTime\u001b[39;49m\u001b[38;5;124;43m'\u001b[39;49m\u001b[43m \u001b[49m\u001b[43m)\u001b[49m\n\u001b[0;32m      3\u001b[0m plt\u001b[38;5;241m.\u001b[39mshow()\n",
      "File \u001b[1;32m~\\anaconda3\\envs\\YH\\lib\\site-packages\\seaborn\\categorical.py:2937\u001b[0m, in \u001b[0;36mcountplot\u001b[1;34m(data, x, y, hue, order, hue_order, orient, color, palette, saturation, width, dodge, ax, **kwargs)\u001b[0m\n\u001b[0;32m   2935\u001b[0m     y \u001b[38;5;241m=\u001b[39m x\n\u001b[0;32m   2936\u001b[0m \u001b[38;5;28;01melif\u001b[39;00m x \u001b[38;5;129;01mis\u001b[39;00m \u001b[38;5;129;01mnot\u001b[39;00m \u001b[38;5;28;01mNone\u001b[39;00m \u001b[38;5;129;01mand\u001b[39;00m y \u001b[38;5;129;01mis\u001b[39;00m \u001b[38;5;129;01mnot\u001b[39;00m \u001b[38;5;28;01mNone\u001b[39;00m:\n\u001b[1;32m-> 2937\u001b[0m     \u001b[38;5;28;01mraise\u001b[39;00m \u001b[38;5;167;01mValueError\u001b[39;00m(\u001b[38;5;124m\"\u001b[39m\u001b[38;5;124mCannot pass values for both `x` and `y`\u001b[39m\u001b[38;5;124m\"\u001b[39m)\n\u001b[0;32m   2939\u001b[0m plotter \u001b[38;5;241m=\u001b[39m _CountPlotter(\n\u001b[0;32m   2940\u001b[0m     x, y, hue, data, order, hue_order,\n\u001b[0;32m   2941\u001b[0m     estimator, errorbar, n_boot, units, seed,\n\u001b[0;32m   2942\u001b[0m     orient, color, palette, saturation,\n\u001b[0;32m   2943\u001b[0m     width, errcolor, errwidth, capsize, dodge\n\u001b[0;32m   2944\u001b[0m )\n\u001b[0;32m   2946\u001b[0m plotter\u001b[38;5;241m.\u001b[39mvalue_label \u001b[38;5;241m=\u001b[39m \u001b[38;5;124m\"\u001b[39m\u001b[38;5;124mcount\u001b[39m\u001b[38;5;124m\"\u001b[39m\n",
      "\u001b[1;31mValueError\u001b[0m: Cannot pass values for both `x` and `y`"
     ]
    },
    {
     "data": {
      "text/plain": [
       "<Figure size 1000x1200 with 0 Axes>"
      ]
     },
     "metadata": {},
     "output_type": "display_data"
    }
   ],
   "source": [
    "plt.figure(figsize=(10,12))\n",
    "sb.countplot(data = df_exer, x= 'exerciseName', y='exerciseTime' )\n",
    "plt.show()"
   ]
  },
  {
   "cell_type": "code",
   "execution_count": null,
   "id": "d86beee5",
   "metadata": {},
   "outputs": [],
   "source": []
  },
  {
   "cell_type": "code",
   "execution_count": null,
   "id": "9cb88d14",
   "metadata": {},
   "outputs": [],
   "source": []
  },
  {
   "cell_type": "code",
   "execution_count": null,
   "id": "6cb90990",
   "metadata": {},
   "outputs": [],
   "source": []
  },
  {
   "cell_type": "code",
   "execution_count": null,
   "id": "09183773",
   "metadata": {},
   "outputs": [],
   "source": []
  },
  {
   "cell_type": "code",
   "execution_count": null,
   "id": "47548793",
   "metadata": {},
   "outputs": [],
   "source": []
  },
  {
   "cell_type": "code",
   "execution_count": null,
   "id": "c40bf967",
   "metadata": {},
   "outputs": [],
   "source": []
  }
 ],
 "metadata": {
  "kernelspec": {
   "display_name": "Python 3 (ipykernel)",
   "language": "python",
   "name": "python3"
  },
  "language_info": {
   "codemirror_mode": {
    "name": "ipython",
    "version": 3
   },
   "file_extension": ".py",
   "mimetype": "text/x-python",
   "name": "python",
   "nbconvert_exporter": "python",
   "pygments_lexer": "ipython3",
   "version": "3.8.13"
  }
 },
 "nbformat": 4,
 "nbformat_minor": 5
}
